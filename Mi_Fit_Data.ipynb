{
  "nbformat": 4,
  "nbformat_minor": 0,
  "metadata": {
    "colab": {
      "name": "Mi Fit Data.ipynb",
      "provenance": []
    },
    "kernelspec": {
      "name": "python3",
      "display_name": "Python 3"
    },
    "language_info": {
      "name": "python"
    }
  },
  "cells": [
    {
      "cell_type": "markdown",
      "source": [
        "Извлекаем и анализируем данные из архива от MiFit\n"
      ],
      "metadata": {
        "id": "jRAK8V_WNGci"
      }
    },
    {
      "cell_type": "markdown",
      "source": [
        "# Входные данные"
      ],
      "metadata": {
        "id": "MkE38gmWQwra"
      }
    },
    {
      "cell_type": "markdown",
      "source": [
        "# Получение архива"
      ],
      "metadata": {
        "id": "iRhJQFyWNyS7"
      }
    },
    {
      "cell_type": "markdown",
      "source": [
        "Через пару минут, после запроса данных mi fit высылает архив и пароль на указанную почту\n",
        "\n",
        "TODO: автоматическое получение архива от mi fit по расписанию с отправкой графиков в телеграм через бота?"
      ],
      "metadata": {
        "id": "cva28sUTN6LN"
      }
    },
    {
      "cell_type": "markdown",
      "source": [
        "# Распаковка архива"
      ],
      "metadata": {
        "id": "WxAqScLXO5EM"
      }
    },
    {
      "cell_type": "markdown",
      "source": [
        "Очистка папки с данными"
      ],
      "metadata": {
        "id": "CYTbKzBGTWsJ"
      }
    },
    {
      "cell_type": "code",
      "source": [
        "!rm -rf /content/dataset"
      ],
      "metadata": {
        "id": "uNMB72ZcTGSA"
      },
      "execution_count": 115,
      "outputs": []
    },
    {
      "cell_type": "code",
      "source": [
        "'''with zipfile.ZipFile(activity_path, mode='r') as zip:\n",
        "    \n",
        "    zip.extractall(pwd=bytes(password, 'utf-8'))'''"
      ],
      "metadata": {
        "id": "zNBzKXhIKQ7h"
      },
      "execution_count": null,
      "outputs": []
    },
    {
      "cell_type": "markdown",
      "source": [
        "zipfile и pyzipper не смогли открыть архив. Похоже неподдерживаемый формат шифрования. В коллабе можно воспользоваться волшебной командой, где PASSWORD - пароль от архива, который mi fit присылает в письме:"
      ],
      "metadata": {
        "id": "8oLxn9aaPNUg"
      }
    },
    {
      "cell_type": "code",
      "source": [
        "!7z e -pgmHNGtWb /content/3005092385_1642776593637.zip  -o/content/dataset"
      ],
      "metadata": {
        "id": "cqsHDWppQnUd"
      },
      "execution_count": null,
      "outputs": []
    },
    {
      "cell_type": "markdown",
      "source": [
        "В локальном ноутбуке похоже придётся вызывать консольный 7-Zip с параметрами"
      ],
      "metadata": {
        "id": "1Au1OVJFRXL7"
      }
    },
    {
      "cell_type": "markdown",
      "source": [
        "Посмотрим какие файлы оказались в архиве. !7Z распаковал архив, вытащив файлы из своих подпапок, наверное, надо что-то другое указывать в \"-o\", чтобы такого не происходило. Но лучше отфильтруем с помощью isfile"
      ],
      "metadata": {
        "id": "UbTjPp5GX2SI"
      }
    },
    {
      "cell_type": "code",
      "source": [
        "from os import listdir\n",
        "from os.path import isfile, join\n",
        "import re"
      ],
      "metadata": {
        "id": "Q_YIO5dYSYD9"
      },
      "execution_count": 125,
      "outputs": []
    },
    {
      "cell_type": "code",
      "source": [
        "files = [f for f in listdir('dataset') if isfile(join('dataset', f))]\n",
        "files"
      ],
      "metadata": {
        "colab": {
          "base_uri": "https://localhost:8080/"
        },
        "id": "Cj4ioE4GX9Vo",
        "outputId": "d482ac8f-f8fe-4096-fe80-c049688fb40d"
      },
      "execution_count": 133,
      "outputs": [
        {
          "output_type": "execute_result",
          "data": {
            "text/plain": [
              "['SPORT_1642776593324.csv',\n",
              " 'BODY_1642776593017.csv',\n",
              " 'ACTIVITY_MINUTE_1642776591564.csv',\n",
              " 'ACTIVITY_1642776590857.csv',\n",
              " 'HEARTRATE_1642776592237.csv',\n",
              " 'HEARTRATE_AUTO_1642776592508.csv',\n",
              " 'ACTIVITY_STAGE_1642776591113.csv',\n",
              " 'USER_1642776590078.csv',\n",
              " 'SLEEP_1642776592044.csv']"
            ]
          },
          "metadata": {},
          "execution_count": 133
        }
      ]
    },
    {
      "cell_type": "markdown",
      "source": [
        "Создадим переменные с названиями файлов"
      ],
      "metadata": {
        "id": "vhTksJmgeHBS"
      }
    },
    {
      "cell_type": "code",
      "source": [
        "activity_cond = re.compile('ACTIVITY_\\d+')\n",
        "activity_fname = str(list(filter(activity_cond.match, files))[0])\n",
        "\n",
        "sleep_cond = re.compile('SLEEP_\\d+')\n",
        "sleep_fname = str(list(filter(sleep_cond.match, files))[0])\n",
        "\n",
        "body_cond = re.compile('BODY_\\d+')\n",
        "body_fname = str(list(filter(body_cond.match, files))[0])\n",
        "\n",
        "print(activity_fname, sleep_fname, body_fname)"
      ],
      "metadata": {
        "colab": {
          "base_uri": "https://localhost:8080/"
        },
        "id": "Np_FCsJ5SOrg",
        "outputId": "c059552f-ffdb-46a4-9c0b-ef306b83b3bd"
      },
      "execution_count": 137,
      "outputs": [
        {
          "output_type": "stream",
          "name": "stdout",
          "text": [
            "ACTIVITY_1642776590857.csv SLEEP_1642776592044.csv BODY_1642776593017.csv\n"
          ]
        }
      ]
    },
    {
      "cell_type": "markdown",
      "source": [
        "# Анализ"
      ],
      "metadata": {
        "id": "0Z2MkfR1Rt6r"
      }
    },
    {
      "cell_type": "code",
      "source": [
        "import pandas as pd\n",
        "import numpy as np\n",
        "import pandas as pd\n",
        "import seaborn as sns\n",
        "import matplotlib.pyplot as plt"
      ],
      "metadata": {
        "id": "TjJtRE0Y3Pbh"
      },
      "execution_count": 166,
      "outputs": []
    },
    {
      "cell_type": "markdown",
      "source": [
        "Создадим первую таблицу из файла с общей информацией по активности. Сразу скажем pandas, что в первой колонке у нас datetime64"
      ],
      "metadata": {
        "id": "qUEhg1YhR257"
      }
    },
    {
      "cell_type": "code",
      "source": [
        "activity = pd.read_csv ('/content/dataset/' + activity_fname, parse_dates=[0], infer_datetime_format=True )\n",
        "activity.head(4)  "
      ],
      "metadata": {
        "colab": {
          "base_uri": "https://localhost:8080/",
          "height": 175
        },
        "id": "xbVNXF8WZNU9",
        "outputId": "2cd3f343-72bc-4b27-b760-7857a9838586"
      },
      "execution_count": 138,
      "outputs": [
        {
          "output_type": "execute_result",
          "data": {
            "text/html": [
              "\n",
              "  <div id=\"df-80f2adcf-e0d3-4a30-b031-68222f1ac353\">\n",
              "    <div class=\"colab-df-container\">\n",
              "      <div>\n",
              "<style scoped>\n",
              "    .dataframe tbody tr th:only-of-type {\n",
              "        vertical-align: middle;\n",
              "    }\n",
              "\n",
              "    .dataframe tbody tr th {\n",
              "        vertical-align: top;\n",
              "    }\n",
              "\n",
              "    .dataframe thead th {\n",
              "        text-align: right;\n",
              "    }\n",
              "</style>\n",
              "<table border=\"1\" class=\"dataframe\">\n",
              "  <thead>\n",
              "    <tr style=\"text-align: right;\">\n",
              "      <th></th>\n",
              "      <th>date</th>\n",
              "      <th>steps</th>\n",
              "      <th>distance</th>\n",
              "      <th>runDistance</th>\n",
              "      <th>calories</th>\n",
              "    </tr>\n",
              "  </thead>\n",
              "  <tbody>\n",
              "    <tr>\n",
              "      <th>0</th>\n",
              "      <td>2016-07-29</td>\n",
              "      <td>4266</td>\n",
              "      <td>3268</td>\n",
              "      <td>285</td>\n",
              "      <td>203</td>\n",
              "    </tr>\n",
              "    <tr>\n",
              "      <th>1</th>\n",
              "      <td>2016-07-30</td>\n",
              "      <td>8088</td>\n",
              "      <td>5637</td>\n",
              "      <td>158</td>\n",
              "      <td>480</td>\n",
              "    </tr>\n",
              "    <tr>\n",
              "      <th>2</th>\n",
              "      <td>2016-07-31</td>\n",
              "      <td>4251</td>\n",
              "      <td>2910</td>\n",
              "      <td>49</td>\n",
              "      <td>265</td>\n",
              "    </tr>\n",
              "    <tr>\n",
              "      <th>3</th>\n",
              "      <td>2016-08-01</td>\n",
              "      <td>17596</td>\n",
              "      <td>13405</td>\n",
              "      <td>359</td>\n",
              "      <td>874</td>\n",
              "    </tr>\n",
              "  </tbody>\n",
              "</table>\n",
              "</div>\n",
              "      <button class=\"colab-df-convert\" onclick=\"convertToInteractive('df-80f2adcf-e0d3-4a30-b031-68222f1ac353')\"\n",
              "              title=\"Convert this dataframe to an interactive table.\"\n",
              "              style=\"display:none;\">\n",
              "        \n",
              "  <svg xmlns=\"http://www.w3.org/2000/svg\" height=\"24px\"viewBox=\"0 0 24 24\"\n",
              "       width=\"24px\">\n",
              "    <path d=\"M0 0h24v24H0V0z\" fill=\"none\"/>\n",
              "    <path d=\"M18.56 5.44l.94 2.06.94-2.06 2.06-.94-2.06-.94-.94-2.06-.94 2.06-2.06.94zm-11 1L8.5 8.5l.94-2.06 2.06-.94-2.06-.94L8.5 2.5l-.94 2.06-2.06.94zm10 10l.94 2.06.94-2.06 2.06-.94-2.06-.94-.94-2.06-.94 2.06-2.06.94z\"/><path d=\"M17.41 7.96l-1.37-1.37c-.4-.4-.92-.59-1.43-.59-.52 0-1.04.2-1.43.59L10.3 9.45l-7.72 7.72c-.78.78-.78 2.05 0 2.83L4 21.41c.39.39.9.59 1.41.59.51 0 1.02-.2 1.41-.59l7.78-7.78 2.81-2.81c.8-.78.8-2.07 0-2.86zM5.41 20L4 18.59l7.72-7.72 1.47 1.35L5.41 20z\"/>\n",
              "  </svg>\n",
              "      </button>\n",
              "      \n",
              "  <style>\n",
              "    .colab-df-container {\n",
              "      display:flex;\n",
              "      flex-wrap:wrap;\n",
              "      gap: 12px;\n",
              "    }\n",
              "\n",
              "    .colab-df-convert {\n",
              "      background-color: #E8F0FE;\n",
              "      border: none;\n",
              "      border-radius: 50%;\n",
              "      cursor: pointer;\n",
              "      display: none;\n",
              "      fill: #1967D2;\n",
              "      height: 32px;\n",
              "      padding: 0 0 0 0;\n",
              "      width: 32px;\n",
              "    }\n",
              "\n",
              "    .colab-df-convert:hover {\n",
              "      background-color: #E2EBFA;\n",
              "      box-shadow: 0px 1px 2px rgba(60, 64, 67, 0.3), 0px 1px 3px 1px rgba(60, 64, 67, 0.15);\n",
              "      fill: #174EA6;\n",
              "    }\n",
              "\n",
              "    [theme=dark] .colab-df-convert {\n",
              "      background-color: #3B4455;\n",
              "      fill: #D2E3FC;\n",
              "    }\n",
              "\n",
              "    [theme=dark] .colab-df-convert:hover {\n",
              "      background-color: #434B5C;\n",
              "      box-shadow: 0px 1px 3px 1px rgba(0, 0, 0, 0.15);\n",
              "      filter: drop-shadow(0px 1px 2px rgba(0, 0, 0, 0.3));\n",
              "      fill: #FFFFFF;\n",
              "    }\n",
              "  </style>\n",
              "\n",
              "      <script>\n",
              "        const buttonEl =\n",
              "          document.querySelector('#df-80f2adcf-e0d3-4a30-b031-68222f1ac353 button.colab-df-convert');\n",
              "        buttonEl.style.display =\n",
              "          google.colab.kernel.accessAllowed ? 'block' : 'none';\n",
              "\n",
              "        async function convertToInteractive(key) {\n",
              "          const element = document.querySelector('#df-80f2adcf-e0d3-4a30-b031-68222f1ac353');\n",
              "          const dataTable =\n",
              "            await google.colab.kernel.invokeFunction('convertToInteractive',\n",
              "                                                     [key], {});\n",
              "          if (!dataTable) return;\n",
              "\n",
              "          const docLinkHtml = 'Like what you see? Visit the ' +\n",
              "            '<a target=\"_blank\" href=https://colab.research.google.com/notebooks/data_table.ipynb>data table notebook</a>'\n",
              "            + ' to learn more about interactive tables.';\n",
              "          element.innerHTML = '';\n",
              "          dataTable['output_type'] = 'display_data';\n",
              "          await google.colab.output.renderOutput(dataTable, element);\n",
              "          const docLink = document.createElement('div');\n",
              "          docLink.innerHTML = docLinkHtml;\n",
              "          element.appendChild(docLink);\n",
              "        }\n",
              "      </script>\n",
              "    </div>\n",
              "  </div>\n",
              "  "
            ],
            "text/plain": [
              "        date  steps  distance  runDistance  calories\n",
              "0 2016-07-29   4266      3268          285       203\n",
              "1 2016-07-30   8088      5637          158       480\n",
              "2 2016-07-31   4251      2910           49       265\n",
              "3 2016-08-01  17596     13405          359       874"
            ]
          },
          "metadata": {},
          "execution_count": 138
        }
      ]
    },
    {
      "cell_type": "code",
      "source": [
        "activity.info()"
      ],
      "metadata": {
        "colab": {
          "base_uri": "https://localhost:8080/"
        },
        "id": "dVRNgqa51b4R",
        "outputId": "5ab2d160-4da4-4883-9ec7-854e485197ff"
      },
      "execution_count": 31,
      "outputs": [
        {
          "output_type": "stream",
          "name": "stdout",
          "text": [
            "<class 'pandas.core.frame.DataFrame'>\n",
            "RangeIndex: 500 entries, 0 to 499\n",
            "Data columns (total 5 columns):\n",
            " #   Column       Non-Null Count  Dtype         \n",
            "---  ------       --------------  -----         \n",
            " 0   date         500 non-null    datetime64[ns]\n",
            " 1   steps        500 non-null    int64         \n",
            " 2   distance     500 non-null    int64         \n",
            " 3   runDistance  500 non-null    int64         \n",
            " 4   calories     500 non-null    int64         \n",
            "dtypes: datetime64[ns](1), int64(4)\n",
            "memory usage: 19.7 KB\n"
          ]
        }
      ]
    },
    {
      "cell_type": "markdown",
      "source": [
        "Значений Null в нет. Но есть нулевые значения"
      ],
      "metadata": {
        "id": "iyMx5Y_YdL-f"
      }
    },
    {
      "cell_type": "code",
      "source": [
        "activity[activity['steps'] == 0].shape"
      ],
      "metadata": {
        "colab": {
          "base_uri": "https://localhost:8080/"
        },
        "id": "Q4wAIUMbfXBm",
        "outputId": "e6bdfd80-7b77-4184-b68c-6d144f14c732"
      },
      "execution_count": 155,
      "outputs": [
        {
          "output_type": "execute_result",
          "data": {
            "text/plain": [
              "(52, 6)"
            ]
          },
          "metadata": {},
          "execution_count": 155
        }
      ]
    },
    {
      "cell_type": "markdown",
      "source": [
        "Создадим столбец с днями недели по которым потом будем группировать"
      ],
      "metadata": {
        "id": "rUN9uV61agmD"
      }
    },
    {
      "cell_type": "code",
      "source": [
        "activity['day_of_week'] = activity['date'].dt.dayofweek\n",
        "activity.head(4)"
      ],
      "metadata": {
        "colab": {
          "base_uri": "https://localhost:8080/",
          "height": 175
        },
        "id": "WECRkmB65IdO",
        "outputId": "3e63c68f-b65e-4dc0-8a9f-bcb4a4d48899"
      },
      "execution_count": 178,
      "outputs": [
        {
          "output_type": "execute_result",
          "data": {
            "text/html": [
              "\n",
              "  <div id=\"df-6effcaff-2d82-4760-bd57-2f9ccbce3b9d\">\n",
              "    <div class=\"colab-df-container\">\n",
              "      <div>\n",
              "<style scoped>\n",
              "    .dataframe tbody tr th:only-of-type {\n",
              "        vertical-align: middle;\n",
              "    }\n",
              "\n",
              "    .dataframe tbody tr th {\n",
              "        vertical-align: top;\n",
              "    }\n",
              "\n",
              "    .dataframe thead th {\n",
              "        text-align: right;\n",
              "    }\n",
              "</style>\n",
              "<table border=\"1\" class=\"dataframe\">\n",
              "  <thead>\n",
              "    <tr style=\"text-align: right;\">\n",
              "      <th></th>\n",
              "      <th>date</th>\n",
              "      <th>steps</th>\n",
              "      <th>distance</th>\n",
              "      <th>runDistance</th>\n",
              "      <th>calories</th>\n",
              "      <th>day_of_week</th>\n",
              "    </tr>\n",
              "  </thead>\n",
              "  <tbody>\n",
              "    <tr>\n",
              "      <th>0</th>\n",
              "      <td>2016-07-29</td>\n",
              "      <td>4266</td>\n",
              "      <td>3268</td>\n",
              "      <td>285</td>\n",
              "      <td>203</td>\n",
              "      <td>4</td>\n",
              "    </tr>\n",
              "    <tr>\n",
              "      <th>1</th>\n",
              "      <td>2016-07-30</td>\n",
              "      <td>8088</td>\n",
              "      <td>5637</td>\n",
              "      <td>158</td>\n",
              "      <td>480</td>\n",
              "      <td>5</td>\n",
              "    </tr>\n",
              "    <tr>\n",
              "      <th>2</th>\n",
              "      <td>2016-07-31</td>\n",
              "      <td>4251</td>\n",
              "      <td>2910</td>\n",
              "      <td>49</td>\n",
              "      <td>265</td>\n",
              "      <td>6</td>\n",
              "    </tr>\n",
              "    <tr>\n",
              "      <th>3</th>\n",
              "      <td>2016-08-01</td>\n",
              "      <td>17596</td>\n",
              "      <td>13405</td>\n",
              "      <td>359</td>\n",
              "      <td>874</td>\n",
              "      <td>0</td>\n",
              "    </tr>\n",
              "  </tbody>\n",
              "</table>\n",
              "</div>\n",
              "      <button class=\"colab-df-convert\" onclick=\"convertToInteractive('df-6effcaff-2d82-4760-bd57-2f9ccbce3b9d')\"\n",
              "              title=\"Convert this dataframe to an interactive table.\"\n",
              "              style=\"display:none;\">\n",
              "        \n",
              "  <svg xmlns=\"http://www.w3.org/2000/svg\" height=\"24px\"viewBox=\"0 0 24 24\"\n",
              "       width=\"24px\">\n",
              "    <path d=\"M0 0h24v24H0V0z\" fill=\"none\"/>\n",
              "    <path d=\"M18.56 5.44l.94 2.06.94-2.06 2.06-.94-2.06-.94-.94-2.06-.94 2.06-2.06.94zm-11 1L8.5 8.5l.94-2.06 2.06-.94-2.06-.94L8.5 2.5l-.94 2.06-2.06.94zm10 10l.94 2.06.94-2.06 2.06-.94-2.06-.94-.94-2.06-.94 2.06-2.06.94z\"/><path d=\"M17.41 7.96l-1.37-1.37c-.4-.4-.92-.59-1.43-.59-.52 0-1.04.2-1.43.59L10.3 9.45l-7.72 7.72c-.78.78-.78 2.05 0 2.83L4 21.41c.39.39.9.59 1.41.59.51 0 1.02-.2 1.41-.59l7.78-7.78 2.81-2.81c.8-.78.8-2.07 0-2.86zM5.41 20L4 18.59l7.72-7.72 1.47 1.35L5.41 20z\"/>\n",
              "  </svg>\n",
              "      </button>\n",
              "      \n",
              "  <style>\n",
              "    .colab-df-container {\n",
              "      display:flex;\n",
              "      flex-wrap:wrap;\n",
              "      gap: 12px;\n",
              "    }\n",
              "\n",
              "    .colab-df-convert {\n",
              "      background-color: #E8F0FE;\n",
              "      border: none;\n",
              "      border-radius: 50%;\n",
              "      cursor: pointer;\n",
              "      display: none;\n",
              "      fill: #1967D2;\n",
              "      height: 32px;\n",
              "      padding: 0 0 0 0;\n",
              "      width: 32px;\n",
              "    }\n",
              "\n",
              "    .colab-df-convert:hover {\n",
              "      background-color: #E2EBFA;\n",
              "      box-shadow: 0px 1px 2px rgba(60, 64, 67, 0.3), 0px 1px 3px 1px rgba(60, 64, 67, 0.15);\n",
              "      fill: #174EA6;\n",
              "    }\n",
              "\n",
              "    [theme=dark] .colab-df-convert {\n",
              "      background-color: #3B4455;\n",
              "      fill: #D2E3FC;\n",
              "    }\n",
              "\n",
              "    [theme=dark] .colab-df-convert:hover {\n",
              "      background-color: #434B5C;\n",
              "      box-shadow: 0px 1px 3px 1px rgba(0, 0, 0, 0.15);\n",
              "      filter: drop-shadow(0px 1px 2px rgba(0, 0, 0, 0.3));\n",
              "      fill: #FFFFFF;\n",
              "    }\n",
              "  </style>\n",
              "\n",
              "      <script>\n",
              "        const buttonEl =\n",
              "          document.querySelector('#df-6effcaff-2d82-4760-bd57-2f9ccbce3b9d button.colab-df-convert');\n",
              "        buttonEl.style.display =\n",
              "          google.colab.kernel.accessAllowed ? 'block' : 'none';\n",
              "\n",
              "        async function convertToInteractive(key) {\n",
              "          const element = document.querySelector('#df-6effcaff-2d82-4760-bd57-2f9ccbce3b9d');\n",
              "          const dataTable =\n",
              "            await google.colab.kernel.invokeFunction('convertToInteractive',\n",
              "                                                     [key], {});\n",
              "          if (!dataTable) return;\n",
              "\n",
              "          const docLinkHtml = 'Like what you see? Visit the ' +\n",
              "            '<a target=\"_blank\" href=https://colab.research.google.com/notebooks/data_table.ipynb>data table notebook</a>'\n",
              "            + ' to learn more about interactive tables.';\n",
              "          element.innerHTML = '';\n",
              "          dataTable['output_type'] = 'display_data';\n",
              "          await google.colab.output.renderOutput(dataTable, element);\n",
              "          const docLink = document.createElement('div');\n",
              "          docLink.innerHTML = docLinkHtml;\n",
              "          element.appendChild(docLink);\n",
              "        }\n",
              "      </script>\n",
              "    </div>\n",
              "  </div>\n",
              "  "
            ],
            "text/plain": [
              "        date  steps  distance  runDistance  calories  day_of_week\n",
              "0 2016-07-29   4266      3268          285       203            4\n",
              "1 2016-07-30   8088      5637          158       480            5\n",
              "2 2016-07-31   4251      2910           49       265            6\n",
              "3 2016-08-01  17596     13405          359       874            0"
            ]
          },
          "metadata": {},
          "execution_count": 178
        }
      ]
    },
    {
      "cell_type": "code",
      "source": [
        "#activity.style.format({\"date\": lambda t: t.strftime(\"%d/%m/%Y\")})"
      ],
      "metadata": {
        "id": "_7mwRIDh59sd"
      },
      "execution_count": null,
      "outputs": []
    },
    {
      "cell_type": "markdown",
      "source": [
        "Выведем все дни, когда число шагов превышало 8000 (Рекомендации ВОЗ коллеблятся от 7500 до 10000, но мы будем придерживаться цели, поставленной мудрыми китайскими разработчиками по дефолту). Посмотрим рекорд по числу шагов"
      ],
      "metadata": {
        "id": "CIeh-WhWb0H3"
      }
    },
    {
      "cell_type": "code",
      "source": [
        "activity[activity['steps']  > 8000].sort_values(by='steps', ascending=False)"
      ],
      "metadata": {
        "colab": {
          "base_uri": "https://localhost:8080/",
          "height": 424
        },
        "id": "SfnVhAyR9CU_",
        "outputId": "ffd99ed3-1194-49dd-d272-1c10313eecc2"
      },
      "execution_count": 179,
      "outputs": [
        {
          "output_type": "execute_result",
          "data": {
            "text/html": [
              "\n",
              "  <div id=\"df-4e9f94cc-cf80-4558-9b7e-749e21cb2633\">\n",
              "    <div class=\"colab-df-container\">\n",
              "      <div>\n",
              "<style scoped>\n",
              "    .dataframe tbody tr th:only-of-type {\n",
              "        vertical-align: middle;\n",
              "    }\n",
              "\n",
              "    .dataframe tbody tr th {\n",
              "        vertical-align: top;\n",
              "    }\n",
              "\n",
              "    .dataframe thead th {\n",
              "        text-align: right;\n",
              "    }\n",
              "</style>\n",
              "<table border=\"1\" class=\"dataframe\">\n",
              "  <thead>\n",
              "    <tr style=\"text-align: right;\">\n",
              "      <th></th>\n",
              "      <th>date</th>\n",
              "      <th>steps</th>\n",
              "      <th>distance</th>\n",
              "      <th>runDistance</th>\n",
              "      <th>calories</th>\n",
              "      <th>day_of_week</th>\n",
              "    </tr>\n",
              "  </thead>\n",
              "  <tbody>\n",
              "    <tr>\n",
              "      <th>276</th>\n",
              "      <td>2017-09-07</td>\n",
              "      <td>25574</td>\n",
              "      <td>20399</td>\n",
              "      <td>3120</td>\n",
              "      <td>859</td>\n",
              "      <td>3</td>\n",
              "    </tr>\n",
              "    <tr>\n",
              "      <th>206</th>\n",
              "      <td>2017-06-28</td>\n",
              "      <td>22525</td>\n",
              "      <td>17947</td>\n",
              "      <td>790</td>\n",
              "      <td>715</td>\n",
              "      <td>2</td>\n",
              "    </tr>\n",
              "    <tr>\n",
              "      <th>207</th>\n",
              "      <td>2017-06-29</td>\n",
              "      <td>21365</td>\n",
              "      <td>17482</td>\n",
              "      <td>988</td>\n",
              "      <td>745</td>\n",
              "      <td>3</td>\n",
              "    </tr>\n",
              "    <tr>\n",
              "      <th>492</th>\n",
              "      <td>2018-04-25</td>\n",
              "      <td>21045</td>\n",
              "      <td>16911</td>\n",
              "      <td>3182</td>\n",
              "      <td>764</td>\n",
              "      <td>2</td>\n",
              "    </tr>\n",
              "    <tr>\n",
              "      <th>308</th>\n",
              "      <td>2017-10-09</td>\n",
              "      <td>19609</td>\n",
              "      <td>15305</td>\n",
              "      <td>908</td>\n",
              "      <td>626</td>\n",
              "      <td>0</td>\n",
              "    </tr>\n",
              "    <tr>\n",
              "      <th>...</th>\n",
              "      <td>...</td>\n",
              "      <td>...</td>\n",
              "      <td>...</td>\n",
              "      <td>...</td>\n",
              "      <td>...</td>\n",
              "      <td>...</td>\n",
              "    </tr>\n",
              "    <tr>\n",
              "      <th>74</th>\n",
              "      <td>2016-10-28</td>\n",
              "      <td>8204</td>\n",
              "      <td>6361</td>\n",
              "      <td>335</td>\n",
              "      <td>250</td>\n",
              "      <td>4</td>\n",
              "    </tr>\n",
              "    <tr>\n",
              "      <th>248</th>\n",
              "      <td>2017-08-09</td>\n",
              "      <td>8114</td>\n",
              "      <td>6209</td>\n",
              "      <td>402</td>\n",
              "      <td>229</td>\n",
              "      <td>2</td>\n",
              "    </tr>\n",
              "    <tr>\n",
              "      <th>1</th>\n",
              "      <td>2016-07-30</td>\n",
              "      <td>8088</td>\n",
              "      <td>5637</td>\n",
              "      <td>158</td>\n",
              "      <td>480</td>\n",
              "      <td>5</td>\n",
              "    </tr>\n",
              "    <tr>\n",
              "      <th>193</th>\n",
              "      <td>2017-06-15</td>\n",
              "      <td>8082</td>\n",
              "      <td>6411</td>\n",
              "      <td>198</td>\n",
              "      <td>254</td>\n",
              "      <td>3</td>\n",
              "    </tr>\n",
              "    <tr>\n",
              "      <th>53</th>\n",
              "      <td>2016-10-07</td>\n",
              "      <td>8029</td>\n",
              "      <td>6136</td>\n",
              "      <td>43</td>\n",
              "      <td>390</td>\n",
              "      <td>4</td>\n",
              "    </tr>\n",
              "  </tbody>\n",
              "</table>\n",
              "<p>213 rows × 6 columns</p>\n",
              "</div>\n",
              "      <button class=\"colab-df-convert\" onclick=\"convertToInteractive('df-4e9f94cc-cf80-4558-9b7e-749e21cb2633')\"\n",
              "              title=\"Convert this dataframe to an interactive table.\"\n",
              "              style=\"display:none;\">\n",
              "        \n",
              "  <svg xmlns=\"http://www.w3.org/2000/svg\" height=\"24px\"viewBox=\"0 0 24 24\"\n",
              "       width=\"24px\">\n",
              "    <path d=\"M0 0h24v24H0V0z\" fill=\"none\"/>\n",
              "    <path d=\"M18.56 5.44l.94 2.06.94-2.06 2.06-.94-2.06-.94-.94-2.06-.94 2.06-2.06.94zm-11 1L8.5 8.5l.94-2.06 2.06-.94-2.06-.94L8.5 2.5l-.94 2.06-2.06.94zm10 10l.94 2.06.94-2.06 2.06-.94-2.06-.94-.94-2.06-.94 2.06-2.06.94z\"/><path d=\"M17.41 7.96l-1.37-1.37c-.4-.4-.92-.59-1.43-.59-.52 0-1.04.2-1.43.59L10.3 9.45l-7.72 7.72c-.78.78-.78 2.05 0 2.83L4 21.41c.39.39.9.59 1.41.59.51 0 1.02-.2 1.41-.59l7.78-7.78 2.81-2.81c.8-.78.8-2.07 0-2.86zM5.41 20L4 18.59l7.72-7.72 1.47 1.35L5.41 20z\"/>\n",
              "  </svg>\n",
              "      </button>\n",
              "      \n",
              "  <style>\n",
              "    .colab-df-container {\n",
              "      display:flex;\n",
              "      flex-wrap:wrap;\n",
              "      gap: 12px;\n",
              "    }\n",
              "\n",
              "    .colab-df-convert {\n",
              "      background-color: #E8F0FE;\n",
              "      border: none;\n",
              "      border-radius: 50%;\n",
              "      cursor: pointer;\n",
              "      display: none;\n",
              "      fill: #1967D2;\n",
              "      height: 32px;\n",
              "      padding: 0 0 0 0;\n",
              "      width: 32px;\n",
              "    }\n",
              "\n",
              "    .colab-df-convert:hover {\n",
              "      background-color: #E2EBFA;\n",
              "      box-shadow: 0px 1px 2px rgba(60, 64, 67, 0.3), 0px 1px 3px 1px rgba(60, 64, 67, 0.15);\n",
              "      fill: #174EA6;\n",
              "    }\n",
              "\n",
              "    [theme=dark] .colab-df-convert {\n",
              "      background-color: #3B4455;\n",
              "      fill: #D2E3FC;\n",
              "    }\n",
              "\n",
              "    [theme=dark] .colab-df-convert:hover {\n",
              "      background-color: #434B5C;\n",
              "      box-shadow: 0px 1px 3px 1px rgba(0, 0, 0, 0.15);\n",
              "      filter: drop-shadow(0px 1px 2px rgba(0, 0, 0, 0.3));\n",
              "      fill: #FFFFFF;\n",
              "    }\n",
              "  </style>\n",
              "\n",
              "      <script>\n",
              "        const buttonEl =\n",
              "          document.querySelector('#df-4e9f94cc-cf80-4558-9b7e-749e21cb2633 button.colab-df-convert');\n",
              "        buttonEl.style.display =\n",
              "          google.colab.kernel.accessAllowed ? 'block' : 'none';\n",
              "\n",
              "        async function convertToInteractive(key) {\n",
              "          const element = document.querySelector('#df-4e9f94cc-cf80-4558-9b7e-749e21cb2633');\n",
              "          const dataTable =\n",
              "            await google.colab.kernel.invokeFunction('convertToInteractive',\n",
              "                                                     [key], {});\n",
              "          if (!dataTable) return;\n",
              "\n",
              "          const docLinkHtml = 'Like what you see? Visit the ' +\n",
              "            '<a target=\"_blank\" href=https://colab.research.google.com/notebooks/data_table.ipynb>data table notebook</a>'\n",
              "            + ' to learn more about interactive tables.';\n",
              "          element.innerHTML = '';\n",
              "          dataTable['output_type'] = 'display_data';\n",
              "          await google.colab.output.renderOutput(dataTable, element);\n",
              "          const docLink = document.createElement('div');\n",
              "          docLink.innerHTML = docLinkHtml;\n",
              "          element.appendChild(docLink);\n",
              "        }\n",
              "      </script>\n",
              "    </div>\n",
              "  </div>\n",
              "  "
            ],
            "text/plain": [
              "          date  steps  distance  runDistance  calories  day_of_week\n",
              "276 2017-09-07  25574     20399         3120       859            3\n",
              "206 2017-06-28  22525     17947          790       715            2\n",
              "207 2017-06-29  21365     17482          988       745            3\n",
              "492 2018-04-25  21045     16911         3182       764            2\n",
              "308 2017-10-09  19609     15305          908       626            0\n",
              "..         ...    ...       ...          ...       ...          ...\n",
              "74  2016-10-28   8204      6361          335       250            4\n",
              "248 2017-08-09   8114      6209          402       229            2\n",
              "1   2016-07-30   8088      5637          158       480            5\n",
              "193 2017-06-15   8082      6411          198       254            3\n",
              "53  2016-10-07   8029      6136           43       390            4\n",
              "\n",
              "[213 rows x 6 columns]"
            ]
          },
          "metadata": {},
          "execution_count": 179
        }
      ]
    },
    {
      "cell_type": "markdown",
      "source": [
        "Создадим вторую таблицу со сном и соединим."
      ],
      "metadata": {
        "id": "fbzF98UKgnKE"
      }
    },
    {
      "cell_type": "code",
      "source": [
        "sleep = pd.read_csv ('/content/dataset/' + sleep_fname, parse_dates=[0], infer_datetime_format=True )\n",
        "sleep.head(4)"
      ],
      "metadata": {
        "colab": {
          "base_uri": "https://localhost:8080/",
          "height": 175
        },
        "id": "Y6mO6zFLBfvN",
        "outputId": "73d867fd-a526-4b58-fd99-4e99cc0da2b8"
      },
      "execution_count": 148,
      "outputs": [
        {
          "output_type": "execute_result",
          "data": {
            "text/html": [
              "\n",
              "  <div id=\"df-338bdc9b-0d6a-4b54-8432-1f8a50c802a2\">\n",
              "    <div class=\"colab-df-container\">\n",
              "      <div>\n",
              "<style scoped>\n",
              "    .dataframe tbody tr th:only-of-type {\n",
              "        vertical-align: middle;\n",
              "    }\n",
              "\n",
              "    .dataframe tbody tr th {\n",
              "        vertical-align: top;\n",
              "    }\n",
              "\n",
              "    .dataframe thead th {\n",
              "        text-align: right;\n",
              "    }\n",
              "</style>\n",
              "<table border=\"1\" class=\"dataframe\">\n",
              "  <thead>\n",
              "    <tr style=\"text-align: right;\">\n",
              "      <th></th>\n",
              "      <th>date</th>\n",
              "      <th>deepSleepTime</th>\n",
              "      <th>shallowSleepTime</th>\n",
              "      <th>wakeTime</th>\n",
              "      <th>start</th>\n",
              "      <th>stop</th>\n",
              "    </tr>\n",
              "  </thead>\n",
              "  <tbody>\n",
              "    <tr>\n",
              "      <th>0</th>\n",
              "      <td>2016-07-29</td>\n",
              "      <td>0</td>\n",
              "      <td>0</td>\n",
              "      <td>0</td>\n",
              "      <td>2016-07-28 21:00:00+0000</td>\n",
              "      <td>2016-07-28 21:00:00+0000</td>\n",
              "    </tr>\n",
              "    <tr>\n",
              "      <th>1</th>\n",
              "      <td>2016-07-30</td>\n",
              "      <td>221</td>\n",
              "      <td>239</td>\n",
              "      <td>0</td>\n",
              "      <td>2016-07-29 22:05:00+0000</td>\n",
              "      <td>2016-07-30 05:45:00+0000</td>\n",
              "    </tr>\n",
              "    <tr>\n",
              "      <th>2</th>\n",
              "      <td>2016-07-31</td>\n",
              "      <td>192</td>\n",
              "      <td>414</td>\n",
              "      <td>0</td>\n",
              "      <td>2016-07-30 20:36:00+0000</td>\n",
              "      <td>2016-07-31 06:42:00+0000</td>\n",
              "    </tr>\n",
              "    <tr>\n",
              "      <th>3</th>\n",
              "      <td>2016-08-01</td>\n",
              "      <td>121</td>\n",
              "      <td>305</td>\n",
              "      <td>1</td>\n",
              "      <td>2016-07-31 22:00:00+0000</td>\n",
              "      <td>2016-08-01 05:07:00+0000</td>\n",
              "    </tr>\n",
              "  </tbody>\n",
              "</table>\n",
              "</div>\n",
              "      <button class=\"colab-df-convert\" onclick=\"convertToInteractive('df-338bdc9b-0d6a-4b54-8432-1f8a50c802a2')\"\n",
              "              title=\"Convert this dataframe to an interactive table.\"\n",
              "              style=\"display:none;\">\n",
              "        \n",
              "  <svg xmlns=\"http://www.w3.org/2000/svg\" height=\"24px\"viewBox=\"0 0 24 24\"\n",
              "       width=\"24px\">\n",
              "    <path d=\"M0 0h24v24H0V0z\" fill=\"none\"/>\n",
              "    <path d=\"M18.56 5.44l.94 2.06.94-2.06 2.06-.94-2.06-.94-.94-2.06-.94 2.06-2.06.94zm-11 1L8.5 8.5l.94-2.06 2.06-.94-2.06-.94L8.5 2.5l-.94 2.06-2.06.94zm10 10l.94 2.06.94-2.06 2.06-.94-2.06-.94-.94-2.06-.94 2.06-2.06.94z\"/><path d=\"M17.41 7.96l-1.37-1.37c-.4-.4-.92-.59-1.43-.59-.52 0-1.04.2-1.43.59L10.3 9.45l-7.72 7.72c-.78.78-.78 2.05 0 2.83L4 21.41c.39.39.9.59 1.41.59.51 0 1.02-.2 1.41-.59l7.78-7.78 2.81-2.81c.8-.78.8-2.07 0-2.86zM5.41 20L4 18.59l7.72-7.72 1.47 1.35L5.41 20z\"/>\n",
              "  </svg>\n",
              "      </button>\n",
              "      \n",
              "  <style>\n",
              "    .colab-df-container {\n",
              "      display:flex;\n",
              "      flex-wrap:wrap;\n",
              "      gap: 12px;\n",
              "    }\n",
              "\n",
              "    .colab-df-convert {\n",
              "      background-color: #E8F0FE;\n",
              "      border: none;\n",
              "      border-radius: 50%;\n",
              "      cursor: pointer;\n",
              "      display: none;\n",
              "      fill: #1967D2;\n",
              "      height: 32px;\n",
              "      padding: 0 0 0 0;\n",
              "      width: 32px;\n",
              "    }\n",
              "\n",
              "    .colab-df-convert:hover {\n",
              "      background-color: #E2EBFA;\n",
              "      box-shadow: 0px 1px 2px rgba(60, 64, 67, 0.3), 0px 1px 3px 1px rgba(60, 64, 67, 0.15);\n",
              "      fill: #174EA6;\n",
              "    }\n",
              "\n",
              "    [theme=dark] .colab-df-convert {\n",
              "      background-color: #3B4455;\n",
              "      fill: #D2E3FC;\n",
              "    }\n",
              "\n",
              "    [theme=dark] .colab-df-convert:hover {\n",
              "      background-color: #434B5C;\n",
              "      box-shadow: 0px 1px 3px 1px rgba(0, 0, 0, 0.15);\n",
              "      filter: drop-shadow(0px 1px 2px rgba(0, 0, 0, 0.3));\n",
              "      fill: #FFFFFF;\n",
              "    }\n",
              "  </style>\n",
              "\n",
              "      <script>\n",
              "        const buttonEl =\n",
              "          document.querySelector('#df-338bdc9b-0d6a-4b54-8432-1f8a50c802a2 button.colab-df-convert');\n",
              "        buttonEl.style.display =\n",
              "          google.colab.kernel.accessAllowed ? 'block' : 'none';\n",
              "\n",
              "        async function convertToInteractive(key) {\n",
              "          const element = document.querySelector('#df-338bdc9b-0d6a-4b54-8432-1f8a50c802a2');\n",
              "          const dataTable =\n",
              "            await google.colab.kernel.invokeFunction('convertToInteractive',\n",
              "                                                     [key], {});\n",
              "          if (!dataTable) return;\n",
              "\n",
              "          const docLinkHtml = 'Like what you see? Visit the ' +\n",
              "            '<a target=\"_blank\" href=https://colab.research.google.com/notebooks/data_table.ipynb>data table notebook</a>'\n",
              "            + ' to learn more about interactive tables.';\n",
              "          element.innerHTML = '';\n",
              "          dataTable['output_type'] = 'display_data';\n",
              "          await google.colab.output.renderOutput(dataTable, element);\n",
              "          const docLink = document.createElement('div');\n",
              "          docLink.innerHTML = docLinkHtml;\n",
              "          element.appendChild(docLink);\n",
              "        }\n",
              "      </script>\n",
              "    </div>\n",
              "  </div>\n",
              "  "
            ],
            "text/plain": [
              "        date  deepSleepTime  ...                     start                      stop\n",
              "0 2016-07-29              0  ...  2016-07-28 21:00:00+0000  2016-07-28 21:00:00+0000\n",
              "1 2016-07-30            221  ...  2016-07-29 22:05:00+0000  2016-07-30 05:45:00+0000\n",
              "2 2016-07-31            192  ...  2016-07-30 20:36:00+0000  2016-07-31 06:42:00+0000\n",
              "3 2016-08-01            121  ...  2016-07-31 22:00:00+0000  2016-08-01 05:07:00+0000\n",
              "\n",
              "[4 rows x 6 columns]"
            ]
          },
          "metadata": {},
          "execution_count": 148
        }
      ]
    },
    {
      "cell_type": "code",
      "source": [
        "sleep.info()"
      ],
      "metadata": {
        "colab": {
          "base_uri": "https://localhost:8080/"
        },
        "id": "9u_4O9oaBqU8",
        "outputId": "c1b42b8b-fd67-4898-bcc1-4ac8a30a1660"
      },
      "execution_count": 55,
      "outputs": [
        {
          "output_type": "stream",
          "name": "stdout",
          "text": [
            "<class 'pandas.core.frame.DataFrame'>\n",
            "RangeIndex: 500 entries, 0 to 499\n",
            "Data columns (total 6 columns):\n",
            " #   Column            Non-Null Count  Dtype         \n",
            "---  ------            --------------  -----         \n",
            " 0   date              500 non-null    datetime64[ns]\n",
            " 1   deepSleepTime     500 non-null    int64         \n",
            " 2   shallowSleepTime  500 non-null    int64         \n",
            " 3   wakeTime          500 non-null    int64         \n",
            " 4   start             500 non-null    object        \n",
            " 5   stop              500 non-null    object        \n",
            "dtypes: datetime64[ns](1), int64(3), object(2)\n",
            "memory usage: 23.6+ KB\n"
          ]
        }
      ]
    },
    {
      "cell_type": "markdown",
      "source": [
        "Объединим данные из первых двух таблиц по дате."
      ],
      "metadata": {
        "id": "okWorLKZhNg9"
      }
    },
    {
      "cell_type": "code",
      "source": [
        "main_table = pd.merge(activity, sleep, on='date', how='inner')\n",
        "main_table.info()"
      ],
      "metadata": {
        "colab": {
          "base_uri": "https://localhost:8080/"
        },
        "id": "uMiPX3-ZBud7",
        "outputId": "ac46ca43-c611-4d38-a9e7-df399c2a29e6"
      },
      "execution_count": 181,
      "outputs": [
        {
          "output_type": "stream",
          "name": "stdout",
          "text": [
            "<class 'pandas.core.frame.DataFrame'>\n",
            "Int64Index: 500 entries, 0 to 499\n",
            "Data columns (total 11 columns):\n",
            " #   Column            Non-Null Count  Dtype         \n",
            "---  ------            --------------  -----         \n",
            " 0   date              500 non-null    datetime64[ns]\n",
            " 1   steps             500 non-null    int64         \n",
            " 2   distance          500 non-null    int64         \n",
            " 3   runDistance       500 non-null    int64         \n",
            " 4   calories          500 non-null    int64         \n",
            " 5   day_of_week       500 non-null    int64         \n",
            " 6   deepSleepTime     500 non-null    int64         \n",
            " 7   shallowSleepTime  500 non-null    int64         \n",
            " 8   wakeTime          500 non-null    int64         \n",
            " 9   start             500 non-null    object        \n",
            " 10  stop              500 non-null    object        \n",
            "dtypes: datetime64[ns](1), int64(8), object(2)\n",
            "memory usage: 46.9+ KB\n"
          ]
        }
      ]
    },
    {
      "cell_type": "code",
      "source": [
        "main_table['distance'].describe()"
      ],
      "metadata": {
        "colab": {
          "base_uri": "https://localhost:8080/"
        },
        "id": "xSEkXRYACcUD",
        "outputId": "d331effb-66f6-47db-c785-a12a12f275b6"
      },
      "execution_count": 75,
      "outputs": [
        {
          "output_type": "execute_result",
          "data": {
            "text/plain": [
              "count      500.000000\n",
              "mean      5738.484000\n",
              "std       4622.430751\n",
              "min          0.000000\n",
              "25%       1309.000000\n",
              "50%       5195.500000\n",
              "75%       9870.250000\n",
              "max      20399.000000\n",
              "Name: distance, dtype: float64"
            ]
          },
          "metadata": {},
          "execution_count": 75
        }
      ]
    },
    {
      "cell_type": "code",
      "source": [
        "main_table['step_size'] = main_table['distance'] / main_table['steps']\n",
        "main_table.head(4)"
      ],
      "metadata": {
        "colab": {
          "base_uri": "https://localhost:8080/",
          "height": 308
        },
        "id": "ON9LfSz-GT3C",
        "outputId": "9acb4f58-d258-4572-caff-172c835f1c56"
      },
      "execution_count": 158,
      "outputs": [
        {
          "output_type": "execute_result",
          "data": {
            "text/html": [
              "\n",
              "  <div id=\"df-4c934853-a963-4778-ba02-2d788a5fd07c\">\n",
              "    <div class=\"colab-df-container\">\n",
              "      <div>\n",
              "<style scoped>\n",
              "    .dataframe tbody tr th:only-of-type {\n",
              "        vertical-align: middle;\n",
              "    }\n",
              "\n",
              "    .dataframe tbody tr th {\n",
              "        vertical-align: top;\n",
              "    }\n",
              "\n",
              "    .dataframe thead th {\n",
              "        text-align: right;\n",
              "    }\n",
              "</style>\n",
              "<table border=\"1\" class=\"dataframe\">\n",
              "  <thead>\n",
              "    <tr style=\"text-align: right;\">\n",
              "      <th></th>\n",
              "      <th>date</th>\n",
              "      <th>steps</th>\n",
              "      <th>distance</th>\n",
              "      <th>runDistance</th>\n",
              "      <th>calories</th>\n",
              "      <th>day_of_week</th>\n",
              "      <th>deepSleepTime</th>\n",
              "      <th>shallowSleepTime</th>\n",
              "      <th>wakeTime</th>\n",
              "      <th>start</th>\n",
              "      <th>stop</th>\n",
              "      <th>step_size</th>\n",
              "    </tr>\n",
              "  </thead>\n",
              "  <tbody>\n",
              "    <tr>\n",
              "      <th>0</th>\n",
              "      <td>2016-07-29</td>\n",
              "      <td>4266</td>\n",
              "      <td>3268</td>\n",
              "      <td>285</td>\n",
              "      <td>203</td>\n",
              "      <td>Friday</td>\n",
              "      <td>0</td>\n",
              "      <td>0</td>\n",
              "      <td>0</td>\n",
              "      <td>2016-07-28 21:00:00+0000</td>\n",
              "      <td>2016-07-28 21:00:00+0000</td>\n",
              "      <td>0.766057</td>\n",
              "    </tr>\n",
              "    <tr>\n",
              "      <th>1</th>\n",
              "      <td>2016-07-30</td>\n",
              "      <td>8088</td>\n",
              "      <td>5637</td>\n",
              "      <td>158</td>\n",
              "      <td>480</td>\n",
              "      <td>Saturday</td>\n",
              "      <td>221</td>\n",
              "      <td>239</td>\n",
              "      <td>0</td>\n",
              "      <td>2016-07-29 22:05:00+0000</td>\n",
              "      <td>2016-07-30 05:45:00+0000</td>\n",
              "      <td>0.696958</td>\n",
              "    </tr>\n",
              "    <tr>\n",
              "      <th>2</th>\n",
              "      <td>2016-07-31</td>\n",
              "      <td>4251</td>\n",
              "      <td>2910</td>\n",
              "      <td>49</td>\n",
              "      <td>265</td>\n",
              "      <td>Sunday</td>\n",
              "      <td>192</td>\n",
              "      <td>414</td>\n",
              "      <td>0</td>\n",
              "      <td>2016-07-30 20:36:00+0000</td>\n",
              "      <td>2016-07-31 06:42:00+0000</td>\n",
              "      <td>0.684545</td>\n",
              "    </tr>\n",
              "    <tr>\n",
              "      <th>3</th>\n",
              "      <td>2016-08-01</td>\n",
              "      <td>17596</td>\n",
              "      <td>13405</td>\n",
              "      <td>359</td>\n",
              "      <td>874</td>\n",
              "      <td>Monday</td>\n",
              "      <td>121</td>\n",
              "      <td>305</td>\n",
              "      <td>1</td>\n",
              "      <td>2016-07-31 22:00:00+0000</td>\n",
              "      <td>2016-08-01 05:07:00+0000</td>\n",
              "      <td>0.761821</td>\n",
              "    </tr>\n",
              "  </tbody>\n",
              "</table>\n",
              "</div>\n",
              "      <button class=\"colab-df-convert\" onclick=\"convertToInteractive('df-4c934853-a963-4778-ba02-2d788a5fd07c')\"\n",
              "              title=\"Convert this dataframe to an interactive table.\"\n",
              "              style=\"display:none;\">\n",
              "        \n",
              "  <svg xmlns=\"http://www.w3.org/2000/svg\" height=\"24px\"viewBox=\"0 0 24 24\"\n",
              "       width=\"24px\">\n",
              "    <path d=\"M0 0h24v24H0V0z\" fill=\"none\"/>\n",
              "    <path d=\"M18.56 5.44l.94 2.06.94-2.06 2.06-.94-2.06-.94-.94-2.06-.94 2.06-2.06.94zm-11 1L8.5 8.5l.94-2.06 2.06-.94-2.06-.94L8.5 2.5l-.94 2.06-2.06.94zm10 10l.94 2.06.94-2.06 2.06-.94-2.06-.94-.94-2.06-.94 2.06-2.06.94z\"/><path d=\"M17.41 7.96l-1.37-1.37c-.4-.4-.92-.59-1.43-.59-.52 0-1.04.2-1.43.59L10.3 9.45l-7.72 7.72c-.78.78-.78 2.05 0 2.83L4 21.41c.39.39.9.59 1.41.59.51 0 1.02-.2 1.41-.59l7.78-7.78 2.81-2.81c.8-.78.8-2.07 0-2.86zM5.41 20L4 18.59l7.72-7.72 1.47 1.35L5.41 20z\"/>\n",
              "  </svg>\n",
              "      </button>\n",
              "      \n",
              "  <style>\n",
              "    .colab-df-container {\n",
              "      display:flex;\n",
              "      flex-wrap:wrap;\n",
              "      gap: 12px;\n",
              "    }\n",
              "\n",
              "    .colab-df-convert {\n",
              "      background-color: #E8F0FE;\n",
              "      border: none;\n",
              "      border-radius: 50%;\n",
              "      cursor: pointer;\n",
              "      display: none;\n",
              "      fill: #1967D2;\n",
              "      height: 32px;\n",
              "      padding: 0 0 0 0;\n",
              "      width: 32px;\n",
              "    }\n",
              "\n",
              "    .colab-df-convert:hover {\n",
              "      background-color: #E2EBFA;\n",
              "      box-shadow: 0px 1px 2px rgba(60, 64, 67, 0.3), 0px 1px 3px 1px rgba(60, 64, 67, 0.15);\n",
              "      fill: #174EA6;\n",
              "    }\n",
              "\n",
              "    [theme=dark] .colab-df-convert {\n",
              "      background-color: #3B4455;\n",
              "      fill: #D2E3FC;\n",
              "    }\n",
              "\n",
              "    [theme=dark] .colab-df-convert:hover {\n",
              "      background-color: #434B5C;\n",
              "      box-shadow: 0px 1px 3px 1px rgba(0, 0, 0, 0.15);\n",
              "      filter: drop-shadow(0px 1px 2px rgba(0, 0, 0, 0.3));\n",
              "      fill: #FFFFFF;\n",
              "    }\n",
              "  </style>\n",
              "\n",
              "      <script>\n",
              "        const buttonEl =\n",
              "          document.querySelector('#df-4c934853-a963-4778-ba02-2d788a5fd07c button.colab-df-convert');\n",
              "        buttonEl.style.display =\n",
              "          google.colab.kernel.accessAllowed ? 'block' : 'none';\n",
              "\n",
              "        async function convertToInteractive(key) {\n",
              "          const element = document.querySelector('#df-4c934853-a963-4778-ba02-2d788a5fd07c');\n",
              "          const dataTable =\n",
              "            await google.colab.kernel.invokeFunction('convertToInteractive',\n",
              "                                                     [key], {});\n",
              "          if (!dataTable) return;\n",
              "\n",
              "          const docLinkHtml = 'Like what you see? Visit the ' +\n",
              "            '<a target=\"_blank\" href=https://colab.research.google.com/notebooks/data_table.ipynb>data table notebook</a>'\n",
              "            + ' to learn more about interactive tables.';\n",
              "          element.innerHTML = '';\n",
              "          dataTable['output_type'] = 'display_data';\n",
              "          await google.colab.output.renderOutput(dataTable, element);\n",
              "          const docLink = document.createElement('div');\n",
              "          docLink.innerHTML = docLinkHtml;\n",
              "          element.appendChild(docLink);\n",
              "        }\n",
              "      </script>\n",
              "    </div>\n",
              "  </div>\n",
              "  "
            ],
            "text/plain": [
              "        date  steps  ...                      stop  step_size\n",
              "0 2016-07-29   4266  ...  2016-07-28 21:00:00+0000   0.766057\n",
              "1 2016-07-30   8088  ...  2016-07-30 05:45:00+0000   0.696958\n",
              "2 2016-07-31   4251  ...  2016-07-31 06:42:00+0000   0.684545\n",
              "3 2016-08-01  17596  ...  2016-08-01 05:07:00+0000   0.761821\n",
              "\n",
              "[4 rows x 12 columns]"
            ]
          },
          "metadata": {},
          "execution_count": 158
        }
      ]
    },
    {
      "cell_type": "code",
      "source": [
        "main_table.groupby('day_of_week')[['steps', 'distance', 'calories', 'step_size']].mean()"
      ],
      "metadata": {
        "colab": {
          "base_uri": "https://localhost:8080/",
          "height": 300
        },
        "id": "NE63inwcEM3s",
        "outputId": "967a1c17-7111-4d9a-e374-b20418006bd2"
      },
      "execution_count": 159,
      "outputs": [
        {
          "output_type": "execute_result",
          "data": {
            "text/html": [
              "\n",
              "  <div id=\"df-0d94f32d-e3c4-4227-a6b6-e1380719c573\">\n",
              "    <div class=\"colab-df-container\">\n",
              "      <div>\n",
              "<style scoped>\n",
              "    .dataframe tbody tr th:only-of-type {\n",
              "        vertical-align: middle;\n",
              "    }\n",
              "\n",
              "    .dataframe tbody tr th {\n",
              "        vertical-align: top;\n",
              "    }\n",
              "\n",
              "    .dataframe thead th {\n",
              "        text-align: right;\n",
              "    }\n",
              "</style>\n",
              "<table border=\"1\" class=\"dataframe\">\n",
              "  <thead>\n",
              "    <tr style=\"text-align: right;\">\n",
              "      <th></th>\n",
              "      <th>steps</th>\n",
              "      <th>distance</th>\n",
              "      <th>calories</th>\n",
              "      <th>step_size</th>\n",
              "    </tr>\n",
              "    <tr>\n",
              "      <th>day_of_week</th>\n",
              "      <th></th>\n",
              "      <th></th>\n",
              "      <th></th>\n",
              "      <th></th>\n",
              "    </tr>\n",
              "  </thead>\n",
              "  <tbody>\n",
              "    <tr>\n",
              "      <th>Friday</th>\n",
              "      <td>8467.164384</td>\n",
              "      <td>6647.520548</td>\n",
              "      <td>289.547945</td>\n",
              "      <td>0.769259</td>\n",
              "    </tr>\n",
              "    <tr>\n",
              "      <th>Monday</th>\n",
              "      <td>9367.014286</td>\n",
              "      <td>7265.557143</td>\n",
              "      <td>315.114286</td>\n",
              "      <td>0.764266</td>\n",
              "    </tr>\n",
              "    <tr>\n",
              "      <th>Saturday</th>\n",
              "      <td>5296.013699</td>\n",
              "      <td>4070.767123</td>\n",
              "      <td>185.410959</td>\n",
              "      <td>0.744420</td>\n",
              "    </tr>\n",
              "    <tr>\n",
              "      <th>Sunday</th>\n",
              "      <td>3295.541667</td>\n",
              "      <td>2471.263889</td>\n",
              "      <td>106.819444</td>\n",
              "      <td>0.720637</td>\n",
              "    </tr>\n",
              "    <tr>\n",
              "      <th>Thursday</th>\n",
              "      <td>8251.971831</td>\n",
              "      <td>6491.492958</td>\n",
              "      <td>284.647887</td>\n",
              "      <td>0.772369</td>\n",
              "    </tr>\n",
              "    <tr>\n",
              "      <th>Tuesday</th>\n",
              "      <td>8045.070423</td>\n",
              "      <td>6277.366197</td>\n",
              "      <td>274.943662</td>\n",
              "      <td>0.769347</td>\n",
              "    </tr>\n",
              "    <tr>\n",
              "      <th>Wednesday</th>\n",
              "      <td>8998.671429</td>\n",
              "      <td>7052.828571</td>\n",
              "      <td>302.114286</td>\n",
              "      <td>0.771771</td>\n",
              "    </tr>\n",
              "  </tbody>\n",
              "</table>\n",
              "</div>\n",
              "      <button class=\"colab-df-convert\" onclick=\"convertToInteractive('df-0d94f32d-e3c4-4227-a6b6-e1380719c573')\"\n",
              "              title=\"Convert this dataframe to an interactive table.\"\n",
              "              style=\"display:none;\">\n",
              "        \n",
              "  <svg xmlns=\"http://www.w3.org/2000/svg\" height=\"24px\"viewBox=\"0 0 24 24\"\n",
              "       width=\"24px\">\n",
              "    <path d=\"M0 0h24v24H0V0z\" fill=\"none\"/>\n",
              "    <path d=\"M18.56 5.44l.94 2.06.94-2.06 2.06-.94-2.06-.94-.94-2.06-.94 2.06-2.06.94zm-11 1L8.5 8.5l.94-2.06 2.06-.94-2.06-.94L8.5 2.5l-.94 2.06-2.06.94zm10 10l.94 2.06.94-2.06 2.06-.94-2.06-.94-.94-2.06-.94 2.06-2.06.94z\"/><path d=\"M17.41 7.96l-1.37-1.37c-.4-.4-.92-.59-1.43-.59-.52 0-1.04.2-1.43.59L10.3 9.45l-7.72 7.72c-.78.78-.78 2.05 0 2.83L4 21.41c.39.39.9.59 1.41.59.51 0 1.02-.2 1.41-.59l7.78-7.78 2.81-2.81c.8-.78.8-2.07 0-2.86zM5.41 20L4 18.59l7.72-7.72 1.47 1.35L5.41 20z\"/>\n",
              "  </svg>\n",
              "      </button>\n",
              "      \n",
              "  <style>\n",
              "    .colab-df-container {\n",
              "      display:flex;\n",
              "      flex-wrap:wrap;\n",
              "      gap: 12px;\n",
              "    }\n",
              "\n",
              "    .colab-df-convert {\n",
              "      background-color: #E8F0FE;\n",
              "      border: none;\n",
              "      border-radius: 50%;\n",
              "      cursor: pointer;\n",
              "      display: none;\n",
              "      fill: #1967D2;\n",
              "      height: 32px;\n",
              "      padding: 0 0 0 0;\n",
              "      width: 32px;\n",
              "    }\n",
              "\n",
              "    .colab-df-convert:hover {\n",
              "      background-color: #E2EBFA;\n",
              "      box-shadow: 0px 1px 2px rgba(60, 64, 67, 0.3), 0px 1px 3px 1px rgba(60, 64, 67, 0.15);\n",
              "      fill: #174EA6;\n",
              "    }\n",
              "\n",
              "    [theme=dark] .colab-df-convert {\n",
              "      background-color: #3B4455;\n",
              "      fill: #D2E3FC;\n",
              "    }\n",
              "\n",
              "    [theme=dark] .colab-df-convert:hover {\n",
              "      background-color: #434B5C;\n",
              "      box-shadow: 0px 1px 3px 1px rgba(0, 0, 0, 0.15);\n",
              "      filter: drop-shadow(0px 1px 2px rgba(0, 0, 0, 0.3));\n",
              "      fill: #FFFFFF;\n",
              "    }\n",
              "  </style>\n",
              "\n",
              "      <script>\n",
              "        const buttonEl =\n",
              "          document.querySelector('#df-0d94f32d-e3c4-4227-a6b6-e1380719c573 button.colab-df-convert');\n",
              "        buttonEl.style.display =\n",
              "          google.colab.kernel.accessAllowed ? 'block' : 'none';\n",
              "\n",
              "        async function convertToInteractive(key) {\n",
              "          const element = document.querySelector('#df-0d94f32d-e3c4-4227-a6b6-e1380719c573');\n",
              "          const dataTable =\n",
              "            await google.colab.kernel.invokeFunction('convertToInteractive',\n",
              "                                                     [key], {});\n",
              "          if (!dataTable) return;\n",
              "\n",
              "          const docLinkHtml = 'Like what you see? Visit the ' +\n",
              "            '<a target=\"_blank\" href=https://colab.research.google.com/notebooks/data_table.ipynb>data table notebook</a>'\n",
              "            + ' to learn more about interactive tables.';\n",
              "          element.innerHTML = '';\n",
              "          dataTable['output_type'] = 'display_data';\n",
              "          await google.colab.output.renderOutput(dataTable, element);\n",
              "          const docLink = document.createElement('div');\n",
              "          docLink.innerHTML = docLinkHtml;\n",
              "          element.appendChild(docLink);\n",
              "        }\n",
              "      </script>\n",
              "    </div>\n",
              "  </div>\n",
              "  "
            ],
            "text/plain": [
              "                   steps     distance    calories  step_size\n",
              "day_of_week                                                 \n",
              "Friday       8467.164384  6647.520548  289.547945   0.769259\n",
              "Monday       9367.014286  7265.557143  315.114286   0.764266\n",
              "Saturday     5296.013699  4070.767123  185.410959   0.744420\n",
              "Sunday       3295.541667  2471.263889  106.819444   0.720637\n",
              "Thursday     8251.971831  6491.492958  284.647887   0.772369\n",
              "Tuesday      8045.070423  6277.366197  274.943662   0.769347\n",
              "Wednesday    8998.671429  7052.828571  302.114286   0.771771"
            ]
          },
          "metadata": {},
          "execution_count": 159
        }
      ]
    },
    {
      "cell_type": "markdown",
      "source": [
        "Странно, что длина шага получилось разной. Был уверен, что она высчитывается из роста по формуле. \n"
      ],
      "metadata": {
        "id": "chd3ywkuIZBr"
      }
    },
    {
      "cell_type": "markdown",
      "source": [
        "Построим матрицу корреляций. Расстояние и шаги коррелируют с числом сожжёных каллорий, их частное (длина шага) соответственно тоже."
      ],
      "metadata": {
        "id": "QQij4Bc9tq4R"
      }
    },
    {
      "cell_type": "code",
      "source": [
        "corr = main_table[['steps', 'distance', 'calories', 'step_size', 'deepSleepTime',\t'shallowSleepTime']].corr()\n",
        "corr"
      ],
      "metadata": {
        "colab": {
          "base_uri": "https://localhost:8080/",
          "height": 237
        },
        "id": "NW9U-2mmiOQs",
        "outputId": "6549f61e-ffba-4a7c-bcc8-aa5ffe9cfb52"
      },
      "execution_count": 170,
      "outputs": [
        {
          "output_type": "execute_result",
          "data": {
            "text/html": [
              "\n",
              "  <div id=\"df-87e0fde7-9c5b-488b-bd8d-0f624605ed32\">\n",
              "    <div class=\"colab-df-container\">\n",
              "      <div>\n",
              "<style scoped>\n",
              "    .dataframe tbody tr th:only-of-type {\n",
              "        vertical-align: middle;\n",
              "    }\n",
              "\n",
              "    .dataframe tbody tr th {\n",
              "        vertical-align: top;\n",
              "    }\n",
              "\n",
              "    .dataframe thead th {\n",
              "        text-align: right;\n",
              "    }\n",
              "</style>\n",
              "<table border=\"1\" class=\"dataframe\">\n",
              "  <thead>\n",
              "    <tr style=\"text-align: right;\">\n",
              "      <th></th>\n",
              "      <th>steps</th>\n",
              "      <th>distance</th>\n",
              "      <th>calories</th>\n",
              "      <th>step_size</th>\n",
              "      <th>deepSleepTime</th>\n",
              "      <th>shallowSleepTime</th>\n",
              "    </tr>\n",
              "  </thead>\n",
              "  <tbody>\n",
              "    <tr>\n",
              "      <th>steps</th>\n",
              "      <td>1.000000</td>\n",
              "      <td>0.999425</td>\n",
              "      <td>0.967300</td>\n",
              "      <td>0.779204</td>\n",
              "      <td>0.115448</td>\n",
              "      <td>0.110203</td>\n",
              "    </tr>\n",
              "    <tr>\n",
              "      <th>distance</th>\n",
              "      <td>0.999425</td>\n",
              "      <td>1.000000</td>\n",
              "      <td>0.966412</td>\n",
              "      <td>0.787196</td>\n",
              "      <td>0.108020</td>\n",
              "      <td>0.102942</td>\n",
              "    </tr>\n",
              "    <tr>\n",
              "      <th>calories</th>\n",
              "      <td>0.967300</td>\n",
              "      <td>0.966412</td>\n",
              "      <td>1.000000</td>\n",
              "      <td>0.760746</td>\n",
              "      <td>0.137204</td>\n",
              "      <td>0.122642</td>\n",
              "    </tr>\n",
              "    <tr>\n",
              "      <th>step_size</th>\n",
              "      <td>0.779204</td>\n",
              "      <td>0.787196</td>\n",
              "      <td>0.760746</td>\n",
              "      <td>1.000000</td>\n",
              "      <td>-0.119523</td>\n",
              "      <td>-0.153258</td>\n",
              "    </tr>\n",
              "    <tr>\n",
              "      <th>deepSleepTime</th>\n",
              "      <td>0.115448</td>\n",
              "      <td>0.108020</td>\n",
              "      <td>0.137204</td>\n",
              "      <td>-0.119523</td>\n",
              "      <td>1.000000</td>\n",
              "      <td>0.816068</td>\n",
              "    </tr>\n",
              "    <tr>\n",
              "      <th>shallowSleepTime</th>\n",
              "      <td>0.110203</td>\n",
              "      <td>0.102942</td>\n",
              "      <td>0.122642</td>\n",
              "      <td>-0.153258</td>\n",
              "      <td>0.816068</td>\n",
              "      <td>1.000000</td>\n",
              "    </tr>\n",
              "  </tbody>\n",
              "</table>\n",
              "</div>\n",
              "      <button class=\"colab-df-convert\" onclick=\"convertToInteractive('df-87e0fde7-9c5b-488b-bd8d-0f624605ed32')\"\n",
              "              title=\"Convert this dataframe to an interactive table.\"\n",
              "              style=\"display:none;\">\n",
              "        \n",
              "  <svg xmlns=\"http://www.w3.org/2000/svg\" height=\"24px\"viewBox=\"0 0 24 24\"\n",
              "       width=\"24px\">\n",
              "    <path d=\"M0 0h24v24H0V0z\" fill=\"none\"/>\n",
              "    <path d=\"M18.56 5.44l.94 2.06.94-2.06 2.06-.94-2.06-.94-.94-2.06-.94 2.06-2.06.94zm-11 1L8.5 8.5l.94-2.06 2.06-.94-2.06-.94L8.5 2.5l-.94 2.06-2.06.94zm10 10l.94 2.06.94-2.06 2.06-.94-2.06-.94-.94-2.06-.94 2.06-2.06.94z\"/><path d=\"M17.41 7.96l-1.37-1.37c-.4-.4-.92-.59-1.43-.59-.52 0-1.04.2-1.43.59L10.3 9.45l-7.72 7.72c-.78.78-.78 2.05 0 2.83L4 21.41c.39.39.9.59 1.41.59.51 0 1.02-.2 1.41-.59l7.78-7.78 2.81-2.81c.8-.78.8-2.07 0-2.86zM5.41 20L4 18.59l7.72-7.72 1.47 1.35L5.41 20z\"/>\n",
              "  </svg>\n",
              "      </button>\n",
              "      \n",
              "  <style>\n",
              "    .colab-df-container {\n",
              "      display:flex;\n",
              "      flex-wrap:wrap;\n",
              "      gap: 12px;\n",
              "    }\n",
              "\n",
              "    .colab-df-convert {\n",
              "      background-color: #E8F0FE;\n",
              "      border: none;\n",
              "      border-radius: 50%;\n",
              "      cursor: pointer;\n",
              "      display: none;\n",
              "      fill: #1967D2;\n",
              "      height: 32px;\n",
              "      padding: 0 0 0 0;\n",
              "      width: 32px;\n",
              "    }\n",
              "\n",
              "    .colab-df-convert:hover {\n",
              "      background-color: #E2EBFA;\n",
              "      box-shadow: 0px 1px 2px rgba(60, 64, 67, 0.3), 0px 1px 3px 1px rgba(60, 64, 67, 0.15);\n",
              "      fill: #174EA6;\n",
              "    }\n",
              "\n",
              "    [theme=dark] .colab-df-convert {\n",
              "      background-color: #3B4455;\n",
              "      fill: #D2E3FC;\n",
              "    }\n",
              "\n",
              "    [theme=dark] .colab-df-convert:hover {\n",
              "      background-color: #434B5C;\n",
              "      box-shadow: 0px 1px 3px 1px rgba(0, 0, 0, 0.15);\n",
              "      filter: drop-shadow(0px 1px 2px rgba(0, 0, 0, 0.3));\n",
              "      fill: #FFFFFF;\n",
              "    }\n",
              "  </style>\n",
              "\n",
              "      <script>\n",
              "        const buttonEl =\n",
              "          document.querySelector('#df-87e0fde7-9c5b-488b-bd8d-0f624605ed32 button.colab-df-convert');\n",
              "        buttonEl.style.display =\n",
              "          google.colab.kernel.accessAllowed ? 'block' : 'none';\n",
              "\n",
              "        async function convertToInteractive(key) {\n",
              "          const element = document.querySelector('#df-87e0fde7-9c5b-488b-bd8d-0f624605ed32');\n",
              "          const dataTable =\n",
              "            await google.colab.kernel.invokeFunction('convertToInteractive',\n",
              "                                                     [key], {});\n",
              "          if (!dataTable) return;\n",
              "\n",
              "          const docLinkHtml = 'Like what you see? Visit the ' +\n",
              "            '<a target=\"_blank\" href=https://colab.research.google.com/notebooks/data_table.ipynb>data table notebook</a>'\n",
              "            + ' to learn more about interactive tables.';\n",
              "          element.innerHTML = '';\n",
              "          dataTable['output_type'] = 'display_data';\n",
              "          await google.colab.output.renderOutput(dataTable, element);\n",
              "          const docLink = document.createElement('div');\n",
              "          docLink.innerHTML = docLinkHtml;\n",
              "          element.appendChild(docLink);\n",
              "        }\n",
              "      </script>\n",
              "    </div>\n",
              "  </div>\n",
              "  "
            ],
            "text/plain": [
              "                     steps  distance  ...  deepSleepTime  shallowSleepTime\n",
              "steps             1.000000  0.999425  ...       0.115448          0.110203\n",
              "distance          0.999425  1.000000  ...       0.108020          0.102942\n",
              "calories          0.967300  0.966412  ...       0.137204          0.122642\n",
              "step_size         0.779204  0.787196  ...      -0.119523         -0.153258\n",
              "deepSleepTime     0.115448  0.108020  ...       1.000000          0.816068\n",
              "shallowSleepTime  0.110203  0.102942  ...       0.816068          1.000000\n",
              "\n",
              "[6 rows x 6 columns]"
            ]
          },
          "metadata": {},
          "execution_count": 170
        }
      ]
    },
    {
      "cell_type": "markdown",
      "source": [
        "Надо больше гулять на выходных"
      ],
      "metadata": {
        "id": "2eY2jaIeud7-"
      }
    },
    {
      "cell_type": "code",
      "source": [
        "ax = sns.stripplot(x='day_of_week', y='steps', data=main_table)\n",
        "ax = sns.boxplot(x='day_of_week', y='steps', data=main_table, whis=np.inf)"
      ],
      "metadata": {
        "colab": {
          "base_uri": "https://localhost:8080/",
          "height": 280
        },
        "id": "AE5OPBtgoXF3",
        "outputId": "30ddb4ce-b1b1-4f9e-f25a-5f85a1be947f"
      },
      "execution_count": 187,
      "outputs": [
        {
          "output_type": "display_data",
          "data": {
            "image/png": "[encoded data removed]",
            "text/plain": [
              "<Figure size 432x288 with 1 Axes>"
            ]
          },
          "metadata": {
            "needs_background": "light"
          }
        }
      ]
    },
    {
      "cell_type": "code",
      "source": [
        "'''body = pd.read_csv ('/content/dataset/' + body_fname, parse_dates=[0], infer_datetime_format=True )\n",
        "body['date'] = pd.to_datetime(body['time'].dt.date)\n",
        "body.head(5)'''"
      ],
      "metadata": {
        "colab": {
          "base_uri": "https://localhost:8080/",
          "height": 250
        },
        "id": "u5QfzOjXG7y8",
        "outputId": "9be50eb4-4d40-4408-e64c-30d0fadb1f71"
      },
      "execution_count": 190,
      "outputs": [
        {
          "output_type": "execute_result",
          "data": {
            "text/html": [
              "\n",
              "  <div id=\"df-67b71470-d990-4af6-a037-14f21b55a091\">\n",
              "    <div class=\"colab-df-container\">\n",
              "      <div>\n",
              "<style scoped>\n",
              "    .dataframe tbody tr th:only-of-type {\n",
              "        vertical-align: middle;\n",
              "    }\n",
              "\n",
              "    .dataframe tbody tr th {\n",
              "        vertical-align: top;\n",
              "    }\n",
              "\n",
              "    .dataframe thead th {\n",
              "        text-align: right;\n",
              "    }\n",
              "</style>\n",
              "<table border=\"1\" class=\"dataframe\">\n",
              "  <thead>\n",
              "    <tr style=\"text-align: right;\">\n",
              "      <th></th>\n",
              "      <th>time</th>\n",
              "      <th>weight</th>\n",
              "      <th>height</th>\n",
              "      <th>bmi</th>\n",
              "      <th>fatRate</th>\n",
              "      <th>bodyWaterRate</th>\n",
              "      <th>boneMass</th>\n",
              "      <th>metabolism</th>\n",
              "      <th>muscleRate</th>\n",
              "      <th>visceralFat</th>\n",
              "      <th>date</th>\n",
              "    </tr>\n",
              "  </thead>\n",
              "  <tbody>\n",
              "    <tr>\n",
              "      <th>0</th>\n",
              "      <td>2020-07-06 03:13:52</td>\n",
              "      <td>48.0</td>\n",
              "      <td>162.0</td>\n",
              "      <td>18.2</td>\n",
              "      <td>0.0</td>\n",
              "      <td>0.0</td>\n",
              "      <td>0.0</td>\n",
              "      <td>0.0</td>\n",
              "      <td>0.0</td>\n",
              "      <td>0.0</td>\n",
              "      <td>2020-07-06</td>\n",
              "    </tr>\n",
              "    <tr>\n",
              "      <th>1</th>\n",
              "      <td>2020-07-05 19:30:23</td>\n",
              "      <td>48.4</td>\n",
              "      <td>162.0</td>\n",
              "      <td>18.4</td>\n",
              "      <td>0.0</td>\n",
              "      <td>0.0</td>\n",
              "      <td>0.0</td>\n",
              "      <td>0.0</td>\n",
              "      <td>0.0</td>\n",
              "      <td>0.0</td>\n",
              "      <td>2020-07-05</td>\n",
              "    </tr>\n",
              "    <tr>\n",
              "      <th>2</th>\n",
              "      <td>2020-07-03 05:41:26</td>\n",
              "      <td>47.9</td>\n",
              "      <td>162.0</td>\n",
              "      <td>18.2</td>\n",
              "      <td>0.0</td>\n",
              "      <td>0.0</td>\n",
              "      <td>0.0</td>\n",
              "      <td>0.0</td>\n",
              "      <td>0.0</td>\n",
              "      <td>0.0</td>\n",
              "      <td>2020-07-03</td>\n",
              "    </tr>\n",
              "    <tr>\n",
              "      <th>3</th>\n",
              "      <td>2020-07-01 10:58:25</td>\n",
              "      <td>47.8</td>\n",
              "      <td>162.0</td>\n",
              "      <td>18.2</td>\n",
              "      <td>21.0</td>\n",
              "      <td>54.1</td>\n",
              "      <td>1.9</td>\n",
              "      <td>990.0</td>\n",
              "      <td>35.7</td>\n",
              "      <td>2.0</td>\n",
              "      <td>2020-07-01</td>\n",
              "    </tr>\n",
              "    <tr>\n",
              "      <th>4</th>\n",
              "      <td>2020-07-01 10:57:53</td>\n",
              "      <td>47.8</td>\n",
              "      <td>162.0</td>\n",
              "      <td>18.2</td>\n",
              "      <td>0.0</td>\n",
              "      <td>0.0</td>\n",
              "      <td>0.0</td>\n",
              "      <td>0.0</td>\n",
              "      <td>0.0</td>\n",
              "      <td>0.0</td>\n",
              "      <td>2020-07-01</td>\n",
              "    </tr>\n",
              "  </tbody>\n",
              "</table>\n",
              "</div>\n",
              "      <button class=\"colab-df-convert\" onclick=\"convertToInteractive('df-67b71470-d990-4af6-a037-14f21b55a091')\"\n",
              "              title=\"Convert this dataframe to an interactive table.\"\n",
              "              style=\"display:none;\">\n",
              "        \n",
              "  <svg xmlns=\"http://www.w3.org/2000/svg\" height=\"24px\"viewBox=\"0 0 24 24\"\n",
              "       width=\"24px\">\n",
              "    <path d=\"M0 0h24v24H0V0z\" fill=\"none\"/>\n",
              "    <path d=\"M18.56 5.44l.94 2.06.94-2.06 2.06-.94-2.06-.94-.94-2.06-.94 2.06-2.06.94zm-11 1L8.5 8.5l.94-2.06 2.06-.94-2.06-.94L8.5 2.5l-.94 2.06-2.06.94zm10 10l.94 2.06.94-2.06 2.06-.94-2.06-.94-.94-2.06-.94 2.06-2.06.94z\"/><path d=\"M17.41 7.96l-1.37-1.37c-.4-.4-.92-.59-1.43-.59-.52 0-1.04.2-1.43.59L10.3 9.45l-7.72 7.72c-.78.78-.78 2.05 0 2.83L4 21.41c.39.39.9.59 1.41.59.51 0 1.02-.2 1.41-.59l7.78-7.78 2.81-2.81c.8-.78.8-2.07 0-2.86zM5.41 20L4 18.59l7.72-7.72 1.47 1.35L5.41 20z\"/>\n",
              "  </svg>\n",
              "      </button>\n",
              "      \n",
              "  <style>\n",
              "    .colab-df-container {\n",
              "      display:flex;\n",
              "      flex-wrap:wrap;\n",
              "      gap: 12px;\n",
              "    }\n",
              "\n",
              "    .colab-df-convert {\n",
              "      background-color: #E8F0FE;\n",
              "      border: none;\n",
              "      border-radius: 50%;\n",
              "      cursor: pointer;\n",
              "      display: none;\n",
              "      fill: #1967D2;\n",
              "      height: 32px;\n",
              "      padding: 0 0 0 0;\n",
              "      width: 32px;\n",
              "    }\n",
              "\n",
              "    .colab-df-convert:hover {\n",
              "      background-color: #E2EBFA;\n",
              "      box-shadow: 0px 1px 2px rgba(60, 64, 67, 0.3), 0px 1px 3px 1px rgba(60, 64, 67, 0.15);\n",
              "      fill: #174EA6;\n",
              "    }\n",
              "\n",
              "    [theme=dark] .colab-df-convert {\n",
              "      background-color: #3B4455;\n",
              "      fill: #D2E3FC;\n",
              "    }\n",
              "\n",
              "    [theme=dark] .colab-df-convert:hover {\n",
              "      background-color: #434B5C;\n",
              "      box-shadow: 0px 1px 3px 1px rgba(0, 0, 0, 0.15);\n",
              "      filter: drop-shadow(0px 1px 2px rgba(0, 0, 0, 0.3));\n",
              "      fill: #FFFFFF;\n",
              "    }\n",
              "  </style>\n",
              "\n",
              "      <script>\n",
              "        const buttonEl =\n",
              "          document.querySelector('#df-67b71470-d990-4af6-a037-14f21b55a091 button.colab-df-convert');\n",
              "        buttonEl.style.display =\n",
              "          google.colab.kernel.accessAllowed ? 'block' : 'none';\n",
              "\n",
              "        async function convertToInteractive(key) {\n",
              "          const element = document.querySelector('#df-67b71470-d990-4af6-a037-14f21b55a091');\n",
              "          const dataTable =\n",
              "            await google.colab.kernel.invokeFunction('convertToInteractive',\n",
              "                                                     [key], {});\n",
              "          if (!dataTable) return;\n",
              "\n",
              "          const docLinkHtml = 'Like what you see? Visit the ' +\n",
              "            '<a target=\"_blank\" href=https://colab.research.google.com/notebooks/data_table.ipynb>data table notebook</a>'\n",
              "            + ' to learn more about interactive tables.';\n",
              "          element.innerHTML = '';\n",
              "          dataTable['output_type'] = 'display_data';\n",
              "          await google.colab.output.renderOutput(dataTable, element);\n",
              "          const docLink = document.createElement('div');\n",
              "          docLink.innerHTML = docLinkHtml;\n",
              "          element.appendChild(docLink);\n",
              "        }\n",
              "      </script>\n",
              "    </div>\n",
              "  </div>\n",
              "  "
            ],
            "text/plain": [
              "                 time  weight  height  ...  muscleRate  visceralFat       date\n",
              "0 2020-07-06 03:13:52    48.0   162.0  ...         0.0          0.0 2020-07-06\n",
              "1 2020-07-05 19:30:23    48.4   162.0  ...         0.0          0.0 2020-07-05\n",
              "2 2020-07-03 05:41:26    47.9   162.0  ...         0.0          0.0 2020-07-03\n",
              "3 2020-07-01 10:58:25    47.8   162.0  ...        35.7          2.0 2020-07-01\n",
              "4 2020-07-01 10:57:53    47.8   162.0  ...         0.0          0.0 2020-07-01\n",
              "\n",
              "[5 rows x 11 columns]"
            ]
          },
          "metadata": {},
          "execution_count": 190
        }
      ]
    }
  ]
}